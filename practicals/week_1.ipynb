{
 "cells": [
  {
   "cell_type": "markdown",
   "metadata": {},
   "source": [
    "# Getting started with the practicals\n",
    "\n",
    "***These notebooks are best viewed in Jupyter. GitHub might not display all content of the notebook properly.***\n",
    "\n",
    "## Goal of the practical exercises\n",
    "\n",
    "The exercises have two goals:\n",
    "\n",
    "1. Give you the opportunity to obtain 'hands-on' experience in implementing, training and evaluation machine learning models in Python. This experience will also help you better understand the theory covered during the lectures. \n",
    "\n",
    "2. Occasionally demonstrate some 'exam-style' questions that you can use as a reference when studying for the exam. Note however that the example questions are (as the name suggests) only examples and do not constitute a complete and sufficient list of 'things that you have to learn for the exam'. You can recognize example questions as (parts of) exercises by <font color=\"#770a0a\">this font color</font>.\n",
    "\n",
    "For each set of exercises (one Python notebook such as this one $==$ one set of exercises) you have to submit deliverables that will then be graded and constitute 25% of the final grade. Thus, the work that you do during the practicals has double contribution towards the final grade: as 25% direct contribution and as a preparation for the exam that will define the other 65% of the grade.\n",
    "\n",
    "## Deliverables\n",
    "\n",
    "For each set of exercises, you have to submit:\n",
    "1. Python functions and/or classes (`.py` files) that implement basic functionalities (e.g. a $k$-NN classifier) and \n",
    "2. A *single* Python notebook that contains the experiments, visualization and answer to the questions and math problems. *Do not submit your answers as Word or PDF documents (they will not be graded)*. The submitted code and notebook should run without errors and be able to fully reproduce the reported results.\n",
    "\n",
    "We recommend that you clone the provided notebooks (such as this one) and write your code in them. The following rubric will be used when grading the practical work:\n",
    "\n",
    "Component  | Insufficient | Satisfactory | Excellent\n",
    "--- | --- | --- | ---\n",
    "**Code** | Missing or incomplete code structure, runs with errors, lacks documentation | Self-contained, does not result in errors, contains some documentation, can be easily used to reproduce the reported results | User-friendly, well-structured (good separation of general functionality and experiments, i.e. between `.py` files and the Pyhthon notebook), detailed documentation, optimized for speed, use of a version control system (such as GitHub)\n",
    "**Answers to questions** | Incorrect, does not convey understanding of the material, appears to be copied from another source | Correct, conveys good understanding of the material, description in own words | Correct, conveys excellent level of understanding, makes connections between topics\n",
    "\n",
    "## A word on notation\n",
    "\n",
    "When we refer to Python variables, we will use a monospace font. For example, `X` is a Python variable that contains the data matrix. When we refer to mathematical variables, we will use the de-facto standard notation: $a$ or $\\lambda$ is a scalar variable, $\\boldsymbol{\\mathrm{w}}$ is a vector and $\\boldsymbol{\\mathrm{X}}$ is a matrix (e.g. a data matrix from the example above). You should use the same notation when writing your answers and solutions.\n",
    "\n",
    "# Two simple machine learning models\n",
    "\n",
    "## Preliminaries\n",
    "\n",
    "Throughout the practical curriculum of this course, we will use the Python programming language and its ecosystem of libraries for scientific computing (such as `numpy`, `scipy`, `matplotlib`, `scikit-learn` etc). The practicals for the deep learning part of the course will use the `keras` deep learning framework. If you are not sufficiently familiar with this programming language and/or the listed libraries and packages, you are strongly advised to go over the corresponding tutorials from the ['Essential skills'](https://github.com/tueimage/essential-skills) module (the `scikit-learn` library is not covered by the tutorial, however, an extensive documentation is available [here](https://scikit-learn.org/stable/documentation.html).\n",
    "\n",
    "In this first set of exercises, we will use two toy datasets that ship together with `scikit-learn`. \n",
    "\n",
    "The first dataset is named `diabetes` and contains 442 patients described with 10 features: age, sex, body mass index, average blood pressure, and six blood serum measurements. The target variable is a continuous quantitative measure of the disease (diabetes) progression one year after the baseline measurements were recorded. More information is available [here](https://github.com/scikit-learn/scikit-learn/blob/master/sklearn/datasets/descr/diabetes.rst) and [here](https://www4.stat.ncsu.edu/~boos/var.select/diabetes.html).\n",
    "\n",
    "The second dataset is named `breast_cancer` and is a copy of the UCI ML Breast Cancer Wisconsin (Diagnostic) datasets (more infortmation is available [here](https://github.com/scikit-learn/scikit-learn/blob/master/sklearn/datasets/descr/breast_cancer.rst) and [here](https://archive.ics.uci.edu/ml/datasets/Breast+Cancer+Wisconsin+(Diagnostic)). The datasets contains of 569 instances represented with 30 features that are computed from a images of a fine needle aspirate of a breast mass. The features describe characteristics of the cell nuclei present in the image. Each instance is associated with a binary target variable ('malignant' or 'benign'). \n",
    "\n",
    "You can load the two datasets in the following way:"
   ]
  },
  {
   "cell_type": "code",
   "execution_count": 1,
   "metadata": {},
   "outputs": [],
   "source": [
    "import numpy as np\n",
    "from sklearn.datasets import load_diabetes, load_breast_cancer\n",
    "\n",
    "diabetes = load_diabetes()\n",
    "\n",
    "breast_cancer = load_breast_cancer()"
   ]
  },
  {
   "cell_type": "markdown",
   "metadata": {},
   "source": [
    "In the majority of the exercises in this course, we will use higher-level libraries and packages such as `scikit-learn` and `keras` to implement, train and evaluate machine learning models. However, the goal of this first set of exercises is to illustrate basic mathematical tools and machine learning concepts. Because of this, we will impose a restriction of only using basic `numpy` functionality. Furthermore, you should as much as possible restrict the use of for-loops (e.g. use a vector-to-matrix product instead of a for loop when appropriate).\n",
    "\n",
    "If `X` is a 2D data matrix, we will use the convention that the rows of the matrix contain the samples (or instances) and the columns contain the features (inputs to the model). That means that a data matrix with a shape `(122, 13)` represents a dataset with 122 samples, each represented with 13 features. Similarly, if `Y` is a 2D matrix containing the targets, the rows correspond to the samples and the columns to the different targets (outputs of the model). Thus, if the shape of `Y` is `(122, 3)` that means that there are 122 samples and each sample is has 3 targets (note that in the majority of the examples we will only have a single target and thus the number of columns of `Y` will be 1).\n",
    "\n",
    "You can obtain the data and target matrices from the two datasets in the following way:"
   ]
  },
  {
   "cell_type": "code",
   "execution_count": 2,
   "metadata": {},
   "outputs": [
    {
     "name": "stdout",
     "output_type": "stream",
     "text": [
      "(442, 10)\n",
      "(442, 1)\n"
     ]
    }
   ],
   "source": [
    "X = diabetes.data\n",
    "Y = diabetes.target[:, np.newaxis]\n",
    "\n",
    "print(X.shape)\n",
    "print(Y.shape)"
   ]
  },
  {
   "cell_type": "markdown",
   "metadata": {},
   "source": [
    "If you want to only use a subset of the available features, you can obtain a reduced data matrix in the following way:"
   ]
  },
  {
   "cell_type": "code",
   "execution_count": 3,
   "metadata": {
    "scrolled": true
   },
   "outputs": [
    {
     "name": "stdout",
     "output_type": "stream",
     "text": [
      "(442, 1)\n",
      "(442, 2)\n"
     ]
    }
   ],
   "source": [
    "# use only the fourth feature\n",
    "X = diabetes.data[:, np.newaxis, 3]\n",
    "print(X.shape)\n",
    "\n",
    "# use the third, and tenth features\n",
    "X = diabetes.data[:, (3,9)]\n",
    "print(X.shape)"
   ]
  },
  {
   "cell_type": "markdown",
   "metadata": {},
   "source": [
    "***Question***: Why we need to use the `np.newaxis` expression in the examples above? \n",
    "\n",
    "***Answer***: Because the matrix $\\boldsymbol{\\mathrm{Y}}$ and the subset of $\\boldsymbol{\\mathrm{X}}$, with only the fourth feature, are a 1 dimentional matrix. With `np.newaxis` you turn the 1D matrix into a 2D matrix with one column and 442 rows (in this case).\n",
    "\n",
    "Note that in all your experiments in the exercises, you should use and independent training and testing sets. You can split the dataset into a training and testing subsets in the following way:"
   ]
  },
  {
   "cell_type": "code",
   "execution_count": 4,
   "metadata": {},
   "outputs": [
    {
     "name": "stdout",
     "output_type": "stream",
     "text": [
      "(300, 1)\n",
      "(300, 1)\n",
      "(142, 1)\n",
      "(142, 1)\n"
     ]
    }
   ],
   "source": [
    "# use the fourth feature\n",
    "# use the first 300 training samples for training, and the rest for testing\n",
    "X_train = diabetes.data[:300, np.newaxis, 3]\n",
    "y_train = diabetes.target[:300, np.newaxis]\n",
    "X_test = diabetes.data[300:, np.newaxis, 3]\n",
    "y_test = diabetes.target[300:, np.newaxis]\n",
    "print(X_train.shape)\n",
    "print(y_train.shape)\n",
    "print(X_test.shape)\n",
    "print(y_test.shape)"
   ]
  },
  {
   "cell_type": "markdown",
   "metadata": {},
   "source": [
    "## Exercises\n",
    "\n",
    "### Linear regression\n",
    "\n",
    "Implement training and evaluation of a linear regression model on the diabetes dataset using only matrix multiplication, inversion and transpose operations. Report the mean squared error of the model.\n",
    "\n",
    "To get you started we have implemented the first part of this exercise (fitting of the model) as an example."
   ]
  },
  {
   "cell_type": "code",
   "execution_count": 5,
   "metadata": {},
   "outputs": [
    {
     "name": "stdout",
     "output_type": "stream",
     "text": [
      "[[ 152.34786452]\n",
      " [ -16.57607993]\n",
      " [-254.66532396]\n",
      " [ 560.98630022]\n",
      " [ 278.91811152]\n",
      " [-393.41357305]\n",
      " [  97.05460405]\n",
      " [ -19.0023093 ]\n",
      " [ 169.46450327]\n",
      " [ 632.95050374]\n",
      " [ 114.21638941]]\n",
      "28994.134337188425\n"
     ]
    }
   ],
   "source": [
    "# add subfolder that contains all the function implementations\n",
    "# to the system path so we can import them\n",
    "import sys\n",
    "sys.path.append('code/')\n",
    "\n",
    "# the actual implementation is in linear_regression.py,\n",
    "# here we will just use it to fit a model\n",
    "from linear_regression import *\n",
    "\n",
    "# load the dataset\n",
    "# same as before, but now we use all features\n",
    "X_train = diabetes.data[:300, :]\n",
    "y_train = diabetes.target[:300, np.newaxis]\n",
    "X_test = diabetes.data[300:, :]\n",
    "y_test = diabetes.target[300:, np.newaxis]\n",
    "\n",
    "beta = lsq(X_train, y_train)\n",
    "\n",
    "# print the parameters\n",
    "print(beta)\n",
    "y_pred = np.inner(beta[:10].T, X_test).T\n",
    "mse = ((y_test - y_pred)**2).mean()\n",
    "print(mse)"
   ]
  },
  {
   "cell_type": "markdown",
   "metadata": {},
   "source": [
    "### Weighted linear regression\n",
    "\n",
    "Assume that in the dataset that you use to train a linear regression model, there are identical versions of some samples. This problem can be reformulated to a weighted linear regression problem where the matrices $\\boldsymbol{\\mathrm{X}}$ and $\\boldsymbol{\\mathrm{Y}}$ (or the vector $\\boldsymbol{\\mathrm{y}}$ if there is only a single target/output variable) contain only the unique data samples, and a vector $\\boldsymbol{\\mathrm{d}}$ is introduced that gives more weight to samples that appear multiple times in the original dataset (for example, the sample that appears 3 times has a corresponding weight of 3). \n",
    "\n",
    "<p><font color='#770a0a'>Derive the expression for the least-squares solution of a weighted linear regression model (note that in addition to the matrices $\\boldsymbol{\\mathrm{X}}$ and $\\boldsymbol{\\mathrm{Y}}$, the solution should include a vector of weights $\\boldsymbol{\\mathrm{d}}$).</font></p>"
   ]
  },
  {
   "cell_type": "markdown",
   "metadata": {},
   "source": [
    "***Answer:*** \n",
    "\n",
    "RSS($\\boldsymbol{\\mathrm{w}}$) = $\\sum \\limits_{i=1}^{N}\\boldsymbol{d}(y_{i}-x_{i}\\boldsymbol{\\mathrm{w}})^{2}$\n",
    "\n",
    "RSS($\\boldsymbol{\\mathrm{w}}$) = $\\boldsymbol{\\mathrm{d}}(\\boldsymbol{\\mathrm{Y}}-\\boldsymbol{\\mathrm{X}}\\boldsymbol{\\mathrm{w}})^{T}(\\boldsymbol{\\mathrm{Y}}-\\boldsymbol{\\mathrm{X}}\\boldsymbol{\\mathrm{w}})$\n",
    "\n",
    "Take the derivative with respect to $\\boldsymbol{\\mathrm{w}}$\n",
    "\n",
    "RSS'($\\boldsymbol{\\mathrm{w}}$) = $\\boldsymbol{\\mathrm{d}}((-\\boldsymbol{\\mathrm{X}})^{T}(\\boldsymbol{\\mathrm{Y}}-\\boldsymbol{\\mathrm{X}}\\boldsymbol{\\mathrm{w}})+(\\boldsymbol{\\mathrm{Y}}-\\boldsymbol{\\mathrm{X}}\\boldsymbol{\\mathrm{w}})^{T}(-\\boldsymbol{\\mathrm{X}}))$\n",
    " \n",
    " = $\\boldsymbol{\\mathrm{d}}(-2\\boldsymbol{\\mathrm{X}}^{T}(\\boldsymbol{\\mathrm{Y}}-\\boldsymbol{\\mathrm{X}}\\boldsymbol{\\mathrm{w}}))$\n",
    " \n",
    "To find the minimim, the derivative has to be equal to 0\n",
    "\n",
    "$-2\\boldsymbol{\\mathrm{d}}\\boldsymbol{\\mathrm{X}}^{T}(\\boldsymbol{\\mathrm{Y}}-\\boldsymbol{\\mathrm{X}}\\boldsymbol{\\mathrm{w}})) = 0$\n",
    " \n",
    " $\\boldsymbol{\\mathrm{d}}\\boldsymbol{\\mathrm{X}}^{T}\\boldsymbol{\\mathrm{Y}}-\\boldsymbol{\\mathrm{d}}\\boldsymbol{\\mathrm{X}}^{T}\\boldsymbol{\\mathrm{X}}\\boldsymbol{\\mathrm{w}} = 0$\n",
    " \n",
    " $\\boldsymbol{\\mathrm{d}}\\boldsymbol{\\mathrm{X}}^{T}\\boldsymbol{\\mathrm{Y}} = \\boldsymbol{\\mathrm{d}}\\boldsymbol{\\mathrm{X}}^{T}\\boldsymbol{\\mathrm{X}}\\boldsymbol{\\mathrm{w}}$ \n",
    " \n",
    " Solution:\n",
    " \n",
    " $\\boldsymbol{\\mathrm{w}} = (\\boldsymbol{\\mathrm{d}}\\boldsymbol{\\mathrm{X}}^{T}\\boldsymbol{\\mathrm{X}})^{-1}\\boldsymbol{\\mathrm{d}}\\boldsymbol{\\mathrm{X}}^{T}\\boldsymbol{\\mathrm{Y}}$"
   ]
  },
  {
   "cell_type": "markdown",
   "metadata": {},
   "source": [
    "### $k$-NN classification\n",
    "\n",
    "Implement a $k$-Nearest neighbors classifier from scratch in Python using only basic matrix operations with `numpy` and `scipy`. Train and evaluate the classifier on the breast cancer dataset, using all features. Show the performance of the classifier for different values of $k$ (plot the results in a graph). Note that for optimal results, you should normalize the features (e.g. to the $[0, 1]$ range or to have a zero mean and unit standard deviation)."
   ]
  },
  {
   "cell_type": "code",
   "execution_count": 6,
   "metadata": {},
   "outputs": [],
   "source": [
    "import matplotlib.pyplot as plt\n",
    "\n",
    "X_train = breast_cancer.data[:300, :]\n",
    "y_train = breast_cancer.target[:300, np.newaxis]\n",
    "X_test = breast_cancer.data[300:, :]\n",
    "y_test = breast_cancer.target[300:, np.newaxis]\n",
    "\n",
    "X_train /= np.max(np.abs(X_train),axis=0)\n",
    "X_test /= np.max(np.abs(X_test),axis=0)"
   ]
  },
  {
   "cell_type": "code",
   "execution_count": 7,
   "metadata": {},
   "outputs": [
    {
     "data": {
      "text/plain": [
       "Text(0.5, 1.0, 'Accuracy Score')"
      ]
     },
     "execution_count": 7,
     "metadata": {},
     "output_type": "execute_result"
    },
    {
     "data": {
      "image/png": "[encoded data removed]",
      "text/plain": [
       "<Figure size 432x288 with 1 Axes>"
      ]
     },
     "metadata": {
      "needs_background": "light"
     },
     "output_type": "display_data"
    }
   ],
   "source": [
    "sys.path.append('code/')\n",
    "import numpy as np\n",
    "from sklearn.metrics import accuracy_score\n",
    "\n",
    "def euclidean_distance(a, b):\n",
    "    return np.linalg.norm(a-b) #Use norm to get the size of the vector\n",
    "\n",
    "def get_neighbours(X_train, X_test, k):\n",
    "    distances = np.zeros(len(X_train))\n",
    "    for i in range(len(X_train)):\n",
    "        distances[i] = euclidean_distance(X_test, X_train[i])\n",
    "    index = np.argsort(distances)\n",
    "    distances = np.sort(distances)\n",
    "    return index[:k], distances[:k]\n",
    "\n",
    "def kNN_classification_pred(X_train, X_test, k):\n",
    "    y_pred = np.zeros(len(X_test))\n",
    "    for i, x_test in enumerate(X_test):\n",
    "        index, dist = get_neighbours(X_train, x_test, k)\n",
    "        if np.sum(y_train[index,0]) > k/2:\n",
    "            y_pred[i] = 1\n",
    "        else:\n",
    "            y_pred[i] = 0\n",
    "    return y_pred[:, np.newaxis]\n",
    "\n",
    "k_lin = np.arange(1, 16, 2)\n",
    "accuracy = np.zeros(len(k_lin))\n",
    "mse = np.zeros(len(k_lin))\n",
    "for i, k in enumerate(k_lin):\n",
    "    y_pred = kNN_classification_pred(X_train, X_test, k)\n",
    "    accuracy[i] = accuracy_score(y_test, y_pred)\n",
    "    mse[i] = ((y_test - y_pred)**2).mean()\n",
    "\n",
    "f1 = plt.figure(1)\n",
    "plt.plot(k_lin, accuracy) \n",
    "plt.title('Accuracy Score')\n",
    "\n",
    "#f2 = plt.figure(2)\n",
    "#plt.plot(k_lin, mse) \n",
    "#plt.title('Mean Squared Error')\n"
   ]
  },
  {
   "cell_type": "markdown",
   "metadata": {},
   "source": [
    "### $k$-NN regression\n",
    "\n",
    "Modify the $k$-NN implementation to do regression instead of classification. Compare the performance of the linear regression model and the $k$-NN regression model on the diabetes dataset for different values of $k$.."
   ]
  },
  {
   "cell_type": "code",
   "execution_count": 8,
   "metadata": {},
   "outputs": [],
   "source": [
    "X_train = diabetes.data[:300, :]\n",
    "y_train = diabetes.target[:300, np.newaxis]\n",
    "X_test = diabetes.data[300:, :]\n",
    "y_test = diabetes.target[300:, np.newaxis]\n",
    "\n",
    "X_train /= np.max(np.abs(X_train),axis=0)\n",
    "X_test /= np.max(np.abs(X_test),axis=0)\n",
    "#y_train /= np.max(np.abs(y_train),axis=0)\n",
    "#y_test /= np.max(np.abs(y_test),axis=0)"
   ]
  },
  {
   "cell_type": "code",
   "execution_count": 11,
   "metadata": {},
   "outputs": [
    {
     "name": "stdout",
     "output_type": "stream",
     "text": [
      "31335.54800124797\n"
     ]
    },
    {
     "data": {
      "image/png": "[encoded data removed]",
      "text/plain": [
       "<Figure size 432x288 with 1 Axes>"
      ]
     },
     "metadata": {
      "needs_background": "light"
     },
     "output_type": "display_data"
    }
   ],
   "source": [
    "import numpy as np\n",
    "import sklearn.metrics as metric\n",
    "\n",
    "def euclidean_distance(a, b):\n",
    "    return np.linalg.norm(a-b) #Use norm to get the size of the vector\n",
    "\n",
    "def get_neighbours(X_train, X_test, k):\n",
    "    distances = np.zeros(len(X_train))\n",
    "    for i in range(len(X_train)):\n",
    "        distances[i] = euclidean_distance(X_test, X_train[i])\n",
    "    index = np.argsort(distances)\n",
    "    distances = np.sort(distances)\n",
    "    return index[:k], distances[:k]\n",
    "\n",
    "def kNN_regression_pred(X_train, y_train, X_test, k):\n",
    "    y_pred = np.zeros(len(X_test), dtype=int)\n",
    "    for i, x_test in enumerate(X_test):\n",
    "        index, dist = get_neighbours(X_train, x_test, k)\n",
    "        y_pred[i] = np.sum(y_train[index,0])/k\n",
    "    return y_pred[:, np.newaxis]\n",
    "\n",
    "\n",
    "k_lin = np.arange(1, 16, 2)\n",
    "mse_kNN = np.zeros(len(k_lin))\n",
    "for i, k in enumerate(k_lin):\n",
    "    preds_kNN = kNN_regression_pred(X_train, y_train, X_test, k)\n",
    "    mse_kNN[i] = ((y_test - preds_kNN)**2).mean()\n",
    "\n",
    "beta = lsq(X_train, y_train)\n",
    "pred_lin = np.inner(beta[:10].T, X_test).T\n",
    "mse_lin = ((y_test - pred_lin)**2).mean()\n",
    "print(mse_lin)\n",
    "plt.plot(k_lin, mse_kNN)\n",
    "plt.show()"
   ]
  },
  {
   "cell_type": "markdown",
   "metadata": {},
   "source": [
    "### Class-conditional probability\n",
    "\n",
    "Compute and visualize the class-conditional probability (conditional probability where the class label is the conditional variable, i.e. $P(X = x \\mid Y = y)$ for all features in the breast cancer dataset. Assume a Gaussian distribution.\n",
    "\n",
    "<p><font color='#770a0a'>Based on visual analysis of the plots, which individual feature can best discriminate between the two classes? Motivate your answer.</font></p>\n",
    "\n"
   ]
  },
  {
   "cell_type": "code",
   "execution_count": 88,
   "metadata": {},
   "outputs": [
    {
     "data": {
      "image/png": "[encoded data removed]",
      "text/plain": [
       "<Figure size 1224x1224 with 30 Axes>"
      ]
     },
     "metadata": {
      "needs_background": "light"
     },
     "output_type": "display_data"
    }
   ],
   "source": [
    "x = breast_cancer.data[:, :]\n",
    "y = breast_cancer.target[:, np.newaxis]\n",
    "\n",
    "index_neg =[]\n",
    "index_pos = []\n",
    "\n",
    "for i, lab in enumerate(y):\n",
    "    if lab == 0:\n",
    "        index_neg.append(i) \n",
    "    else:\n",
    "        index_pos.append(i)\n",
    "\n",
    "x_neg = x[index_neg]\n",
    "x_pos = x[index_pos]\n",
    "\n",
    "mean_neg = []\n",
    "mean_pos = []\n",
    "std_neg = []\n",
    "std_pos = []\n",
    "\n",
    "for i in range(x.shape[1]):\n",
    "    mean_neg.append(np.mean(x_neg[:, i]))\n",
    "    mean_pos.append(np.mean(x_pos[:, i]))\n",
    "    std_neg.append(np.std(x_neg[:, i]))\n",
    "    std_pos.append(np.std(x_pos[:, i]))\n",
    "\n",
    "def calculate_probability(x, mean, stdev):\n",
    "    exponent = exp(-((x-mean)**2 / (2 * stdev**2 )))\n",
    "    return (1 / (sqrt(2 * pi) * stdev)) * exponent\n",
    "\n",
    "fig, ax = plt.subplots(5,6, figsize=(17,17))\n",
    "c = 0\n",
    "for j in range(5):\n",
    "    for i in range(6):\n",
    "        ax[j, i].hist(x_neg[:, c], color = 'r',alpha = 0.5)\n",
    "        ax[j, i].hist(x_pos[:, c], alpha = 0.5)\n",
    "        ax[j, i].set_title('feature ' + str(c))\n",
    "        c += 1\n",
    "\n",
    "#Compute"
   ]
  },
  {
   "cell_type": "code",
   "execution_count": null,
   "metadata": {},
   "outputs": [],
   "source": []
  }
 ],
 "metadata": {
  "kernelspec": {
   "display_name": "Python 3",
   "language": "python",
   "name": "python3"
  },
  "language_info": {
   "codemirror_mode": {
    "name": "ipython",
    "version": 3
   },
   "file_extension": ".py",
   "mimetype": "text/x-python",
   "name": "python",
   "nbconvert_exporter": "python",
   "pygments_lexer": "ipython3",
   "version": "3.6.10"
  }
 },
 "nbformat": 4,
 "nbformat_minor": 2
}
